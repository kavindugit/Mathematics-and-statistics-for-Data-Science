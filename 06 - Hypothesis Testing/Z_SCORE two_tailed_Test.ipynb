{
 "cells": [
  {
   "cell_type": "code",
   "execution_count": 1,
   "id": "b2ecb3db",
   "metadata": {},
   "outputs": [],
   "source": [
    "import numpy as np\n",
    "import pandas as pd\n"
   ]
  },
  {
   "cell_type": "markdown",
   "id": "b20f8665",
   "metadata": {},
   "source": [
    "# Null Hypothesis: Housing inflation is 10%\n",
    "Alternate Hypothesis: Housing inflation is not 10%\n",
    "\n",
    "For this test, we have collected a sample of 100 home prices inflation numbers. We will load that in pandas dataframe\n"
   ]
  },
  {
   "cell_type": "code",
   "execution_count": 2,
   "id": "66fe162e",
   "metadata": {},
   "outputs": [
    {
     "data": {
      "text/html": [
       "<div>\n",
       "<style scoped>\n",
       "    .dataframe tbody tr th:only-of-type {\n",
       "        vertical-align: middle;\n",
       "    }\n",
       "\n",
       "    .dataframe tbody tr th {\n",
       "        vertical-align: top;\n",
       "    }\n",
       "\n",
       "    .dataframe thead th {\n",
       "        text-align: right;\n",
       "    }\n",
       "</style>\n",
       "<table border=\"1\" class=\"dataframe\">\n",
       "  <thead>\n",
       "    <tr style=\"text-align: right;\">\n",
       "      <th></th>\n",
       "      <th>house_id</th>\n",
       "      <th>price_increase_pct</th>\n",
       "    </tr>\n",
       "  </thead>\n",
       "  <tbody>\n",
       "    <tr>\n",
       "      <th>0</th>\n",
       "      <td>NJ001</td>\n",
       "      <td>12.7</td>\n",
       "    </tr>\n",
       "    <tr>\n",
       "      <th>1</th>\n",
       "      <td>NJ002</td>\n",
       "      <td>11.3</td>\n",
       "    </tr>\n",
       "    <tr>\n",
       "      <th>2</th>\n",
       "      <td>NJ003</td>\n",
       "      <td>11.9</td>\n",
       "    </tr>\n",
       "    <tr>\n",
       "      <th>3</th>\n",
       "      <td>NJ004</td>\n",
       "      <td>13.2</td>\n",
       "    </tr>\n",
       "    <tr>\n",
       "      <th>4</th>\n",
       "      <td>NJ005</td>\n",
       "      <td>12.8</td>\n",
       "    </tr>\n",
       "  </tbody>\n",
       "</table>\n",
       "</div>"
      ],
      "text/plain": [
       "  house_id  price_increase_pct\n",
       "0    NJ001                12.7\n",
       "1    NJ002                11.3\n",
       "2    NJ003                11.9\n",
       "3    NJ004                13.2\n",
       "4    NJ005                12.8"
      ]
     },
     "execution_count": 2,
     "metadata": {},
     "output_type": "execute_result"
    }
   ],
   "source": [
    "df = pd.read_csv(r\"C:\\Users\\HP\\Maths and statistics course codebasics\\files\\chapter10_assets\\3_z_test_housing_inflation\\house_price_increase.csv\")\n",
    "df.head()"
   ]
  },
  {
   "cell_type": "code",
   "execution_count": 3,
   "id": "93d41a0f",
   "metadata": {},
   "outputs": [
    {
     "data": {
      "text/plain": [
       "(100, 2)"
      ]
     },
     "execution_count": 3,
     "metadata": {},
     "output_type": "execute_result"
    }
   ],
   "source": [
    "df.shape\n"
   ]
  },
  {
   "cell_type": "code",
   "execution_count": 4,
   "id": "7967f8a8",
   "metadata": {},
   "outputs": [],
   "source": [
    "population_mean = 10\n",
    "population_std_dev =4\n"
   ]
  },
  {
   "cell_type": "code",
   "execution_count": 5,
   "id": "4341edde",
   "metadata": {},
   "outputs": [
    {
     "data": {
      "text/plain": [
       "11.0"
      ]
     },
     "execution_count": 5,
     "metadata": {},
     "output_type": "execute_result"
    }
   ],
   "source": [
    "sample_mean = df.price_increase_pct.mean()\n",
    "sample_mean"
   ]
  },
  {
   "cell_type": "code",
   "execution_count": 6,
   "id": "acd5ee4b",
   "metadata": {},
   "outputs": [
    {
     "data": {
      "text/plain": [
       "0.4"
      ]
     },
     "execution_count": 6,
     "metadata": {},
     "output_type": "execute_result"
    }
   ],
   "source": [
    "standard_error = population_std_dev / np.sqrt(df.shape[0])\n",
    "standard_error"
   ]
  },
  {
   "cell_type": "code",
   "execution_count": 7,
   "id": "8cf28d4a",
   "metadata": {},
   "outputs": [
    {
     "data": {
      "text/plain": [
       "2.5"
      ]
     },
     "execution_count": 7,
     "metadata": {},
     "output_type": "execute_result"
    }
   ],
   "source": [
    "z_score = (sample_mean - population_mean)/standard_error\n",
    "z_score"
   ]
  },
  {
   "cell_type": "code",
   "execution_count": 8,
   "id": "8e14a837",
   "metadata": {},
   "outputs": [],
   "source": [
    "alpha = 0.05 #alpha means significance level"
   ]
  },
  {
   "cell_type": "markdown",
   "id": "fd5eb783",
   "metadata": {},
   "source": [
    "### Z Test Using Rejection Region"
   ]
  },
  {
   "cell_type": "code",
   "execution_count": 9,
   "id": "83d687c2",
   "metadata": {},
   "outputs": [
    {
     "data": {
      "text/plain": [
       "1.959963984540054"
      ]
     },
     "execution_count": 9,
     "metadata": {},
     "output_type": "execute_result"
    }
   ],
   "source": [
    "from scipy import stats\n",
    "\n",
    "z_critical = stats.norm.ppf(1-alpha/2)\n",
    "z_critical"
   ]
  },
  {
   "cell_type": "code",
   "execution_count": 14,
   "id": "6b18b822",
   "metadata": {},
   "outputs": [
    {
     "data": {
      "text/plain": [
       "(2.5, 1.959963984540054)"
      ]
     },
     "execution_count": 14,
     "metadata": {},
     "output_type": "execute_result"
    }
   ],
   "source": [
    "z_score , z_critical"
   ]
  },
  {
   "cell_type": "markdown",
   "id": "9eb56ce1",
   "metadata": {},
   "source": [
    "Since z_score > z_critical, we will reject the NULL hypothesis. This means the alternate hypothesis becomes true which means the inflation is indeed higher than 10%"
   ]
  },
  {
   "cell_type": "markdown",
   "id": "a0a4952b",
   "metadata": {},
   "source": [
    "### Z Test Using p-Value"
   ]
  },
  {
   "cell_type": "code",
   "execution_count": 15,
   "id": "cdb7d231",
   "metadata": {},
   "outputs": [
    {
     "data": {
      "text/plain": [
       "0.012419330651552318"
      ]
     },
     "execution_count": 15,
     "metadata": {},
     "output_type": "execute_result"
    }
   ],
   "source": [
    "p_value = 2*(1 - stats.norm.cdf(z_score))\n",
    "p_value"
   ]
  },
  {
   "cell_type": "code",
   "execution_count": 12,
   "id": "fbd9b647",
   "metadata": {},
   "outputs": [
    {
     "data": {
      "text/plain": [
       "(0.006209665325776159, 0.05)"
      ]
     },
     "execution_count": 12,
     "metadata": {},
     "output_type": "execute_result"
    }
   ],
   "source": [
    "p_value , alpha"
   ]
  },
  {
   "cell_type": "markdown",
   "id": "88186121",
   "metadata": {},
   "source": [
    "Since P value (0.006) is less than alpha ( significance level -> 0.05), we reject the null hypothesis. This means there is statistically significant evidence to support the claim that the inflation rate in house prices is higher than the reported 10%."
   ]
  },
  {
   "cell_type": "code",
   "execution_count": null,
   "id": "6e183213",
   "metadata": {},
   "outputs": [],
   "source": []
  }
 ],
 "metadata": {
  "kernelspec": {
   "display_name": "Python 3 (ipykernel)",
   "language": "python",
   "name": "python3"
  },
  "language_info": {
   "codemirror_mode": {
    "name": "ipython",
    "version": 3
   },
   "file_extension": ".py",
   "mimetype": "text/x-python",
   "name": "python",
   "nbconvert_exporter": "python",
   "pygments_lexer": "ipython3",
   "version": "3.11.5"
  }
 },
 "nbformat": 4,
 "nbformat_minor": 5
}
