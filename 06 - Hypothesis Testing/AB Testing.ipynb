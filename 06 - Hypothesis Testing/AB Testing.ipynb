{
 "cells": [
  {
   "cell_type": "code",
   "execution_count": 1,
   "id": "1bdb28bc",
   "metadata": {},
   "outputs": [],
   "source": [
    "import pandas as pd\n",
    "import numpy as np\n",
    "from scipy import stats as st\n"
   ]
  },
  {
   "cell_type": "code",
   "execution_count": 2,
   "id": "e3780d88",
   "metadata": {},
   "outputs": [
    {
     "data": {
      "text/html": [
       "<div>\n",
       "<style scoped>\n",
       "    .dataframe tbody tr th:only-of-type {\n",
       "        vertical-align: middle;\n",
       "    }\n",
       "\n",
       "    .dataframe tbody tr th {\n",
       "        vertical-align: top;\n",
       "    }\n",
       "\n",
       "    .dataframe thead th {\n",
       "        text-align: right;\n",
       "    }\n",
       "</style>\n",
       "<table border=\"1\" class=\"dataframe\">\n",
       "  <thead>\n",
       "    <tr style=\"text-align: right;\">\n",
       "      <th></th>\n",
       "      <th>person_id</th>\n",
       "      <th>recovery_time_hrs</th>\n",
       "    </tr>\n",
       "  </thead>\n",
       "  <tbody>\n",
       "    <tr>\n",
       "      <th>0</th>\n",
       "      <td>C001</td>\n",
       "      <td>4.4</td>\n",
       "    </tr>\n",
       "    <tr>\n",
       "      <th>1</th>\n",
       "      <td>C002</td>\n",
       "      <td>4.1</td>\n",
       "    </tr>\n",
       "    <tr>\n",
       "      <th>2</th>\n",
       "      <td>C003</td>\n",
       "      <td>3.2</td>\n",
       "    </tr>\n",
       "    <tr>\n",
       "      <th>3</th>\n",
       "      <td>C004</td>\n",
       "      <td>4.3</td>\n",
       "    </tr>\n",
       "    <tr>\n",
       "      <th>4</th>\n",
       "      <td>C005</td>\n",
       "      <td>4.9</td>\n",
       "    </tr>\n",
       "  </tbody>\n",
       "</table>\n",
       "</div>"
      ],
      "text/plain": [
       "  person_id  recovery_time_hrs\n",
       "0      C001                4.4\n",
       "1      C002                4.1\n",
       "2      C003                3.2\n",
       "3      C004                4.3\n",
       "4      C005                4.9"
      ]
     },
     "execution_count": 2,
     "metadata": {},
     "output_type": "execute_result"
    }
   ],
   "source": [
    "control = pd.read_csv(r\"C:\\Users\\HP\\Maths and statistics course codebasics\\files\\chapter10_assets\\11_z_test_AB_testing_coding\\control_group.csv\")\n",
    "control.head()"
   ]
  },
  {
   "cell_type": "code",
   "execution_count": 3,
   "id": "ff4ef6e0",
   "metadata": {},
   "outputs": [
    {
     "data": {
      "text/html": [
       "<div>\n",
       "<style scoped>\n",
       "    .dataframe tbody tr th:only-of-type {\n",
       "        vertical-align: middle;\n",
       "    }\n",
       "\n",
       "    .dataframe tbody tr th {\n",
       "        vertical-align: top;\n",
       "    }\n",
       "\n",
       "    .dataframe thead th {\n",
       "        text-align: right;\n",
       "    }\n",
       "</style>\n",
       "<table border=\"1\" class=\"dataframe\">\n",
       "  <thead>\n",
       "    <tr style=\"text-align: right;\">\n",
       "      <th></th>\n",
       "      <th>person_id</th>\n",
       "      <th>recovery_time_hrs</th>\n",
       "    </tr>\n",
       "  </thead>\n",
       "  <tbody>\n",
       "    <tr>\n",
       "      <th>0</th>\n",
       "      <td>T001</td>\n",
       "      <td>3.7</td>\n",
       "    </tr>\n",
       "    <tr>\n",
       "      <th>1</th>\n",
       "      <td>T002</td>\n",
       "      <td>4.1</td>\n",
       "    </tr>\n",
       "    <tr>\n",
       "      <th>2</th>\n",
       "      <td>T003</td>\n",
       "      <td>3.7</td>\n",
       "    </tr>\n",
       "    <tr>\n",
       "      <th>3</th>\n",
       "      <td>T004</td>\n",
       "      <td>3.9</td>\n",
       "    </tr>\n",
       "    <tr>\n",
       "      <th>4</th>\n",
       "      <td>T005</td>\n",
       "      <td>3.7</td>\n",
       "    </tr>\n",
       "  </tbody>\n",
       "</table>\n",
       "</div>"
      ],
      "text/plain": [
       "  person_id  recovery_time_hrs\n",
       "0      T001                3.7\n",
       "1      T002                4.1\n",
       "2      T003                3.7\n",
       "3      T004                3.9\n",
       "4      T005                3.7"
      ]
     },
     "execution_count": 3,
     "metadata": {},
     "output_type": "execute_result"
    }
   ],
   "source": [
    "test = pd.read_csv(r\"C:\\Users\\HP\\Maths and statistics course codebasics\\files\\chapter10_assets\\11_z_test_AB_testing_coding\\test_group.csv\")\n",
    "test.head()"
   ]
  },
  {
   "cell_type": "code",
   "execution_count": 10,
   "id": "6c473f06",
   "metadata": {},
   "outputs": [
    {
     "data": {
      "text/plain": [
       "(4.000769230769231, 0.4795825306420973, 130)"
      ]
     },
     "execution_count": 10,
     "metadata": {},
     "output_type": "execute_result"
    }
   ],
   "source": [
    "control_mean = control.recovery_time_hrs.mean()\n",
    "control_std = control.recovery_time_hrs.std()\n",
    "control_size = control.shape[0]\n",
    "\n",
    "control_mean , control_std , control_size\n"
   ]
  },
  {
   "cell_type": "code",
   "execution_count": 11,
   "id": "84714270",
   "metadata": {},
   "outputs": [
    {
     "data": {
      "text/plain": [
       "(3.9119999999999995, 0.3156778821085274, 100)"
      ]
     },
     "execution_count": 11,
     "metadata": {},
     "output_type": "execute_result"
    }
   ],
   "source": [
    "test_mean = test.recovery_time_hrs.mean()\n",
    "test_std = test.recovery_time_hrs.std()\n",
    "test_size = test.shape[0]\n",
    "\n",
    "test_mean , test_std , test_size"
   ]
  },
  {
   "cell_type": "code",
   "execution_count": 13,
   "id": "fe226704",
   "metadata": {},
   "outputs": [
    {
     "data": {
      "text/plain": [
       "1.6879356404645995"
      ]
     },
     "execution_count": 13,
     "metadata": {},
     "output_type": "execute_result"
    }
   ],
   "source": [
    "a = control_std**2 / control_size\n",
    "b = test_std**2 / test_size\n",
    "\n",
    "z_score = (control_mean - test_mean)/np.sqrt(a+b)\n",
    "z_score"
   ]
  },
  {
   "cell_type": "markdown",
   "id": "7d520fa8",
   "metadata": {},
   "source": [
    "### Using rejection region"
   ]
  },
  {
   "cell_type": "code",
   "execution_count": 14,
   "id": "772ea859",
   "metadata": {},
   "outputs": [
    {
     "data": {
      "text/plain": [
       "1.6448536269514722"
      ]
     },
     "execution_count": 14,
     "metadata": {},
     "output_type": "execute_result"
    }
   ],
   "source": [
    "alpha = 0.05\n",
    "critical_z_value = st.norm.ppf(1-alpha)\n",
    "critical_z_value"
   ]
  },
  {
   "cell_type": "code",
   "execution_count": 15,
   "id": "e703b7e7",
   "metadata": {},
   "outputs": [
    {
     "data": {
      "text/plain": [
       "True"
      ]
     },
     "execution_count": 15,
     "metadata": {},
     "output_type": "execute_result"
    }
   ],
   "source": [
    "z_score > critical_z_value"
   ]
  },
  {
   "cell_type": "markdown",
   "id": "9dd4244f",
   "metadata": {},
   "source": [
    "Reject null hypothesis"
   ]
  },
  {
   "cell_type": "markdown",
   "id": "42c4764a",
   "metadata": {},
   "source": [
    "### Using p_value"
   ]
  },
  {
   "cell_type": "code",
   "execution_count": 16,
   "id": "f398159c",
   "metadata": {},
   "outputs": [
    {
     "data": {
      "text/plain": [
       "0.045711792064650814"
      ]
     },
     "execution_count": 16,
     "metadata": {},
     "output_type": "execute_result"
    }
   ],
   "source": [
    "p_value = 1 - st.norm.cdf(z_score)\n",
    "p_value"
   ]
  },
  {
   "cell_type": "code",
   "execution_count": 18,
   "id": "149fa516",
   "metadata": {},
   "outputs": [
    {
     "data": {
      "text/plain": [
       "True"
      ]
     },
     "execution_count": 18,
     "metadata": {},
     "output_type": "execute_result"
    }
   ],
   "source": [
    "p_value < alpha"
   ]
  },
  {
   "cell_type": "markdown",
   "id": "01f7bea4",
   "metadata": {},
   "source": [
    "Reject null hypothesis"
   ]
  },
  {
   "cell_type": "code",
   "execution_count": null,
   "id": "116205b7",
   "metadata": {},
   "outputs": [],
   "source": []
  }
 ],
 "metadata": {
  "kernelspec": {
   "display_name": "Python 3 (ipykernel)",
   "language": "python",
   "name": "python3"
  },
  "language_info": {
   "codemirror_mode": {
    "name": "ipython",
    "version": 3
   },
   "file_extension": ".py",
   "mimetype": "text/x-python",
   "name": "python",
   "nbconvert_exporter": "python",
   "pygments_lexer": "ipython3",
   "version": "3.11.5"
  }
 },
 "nbformat": 4,
 "nbformat_minor": 5
}
