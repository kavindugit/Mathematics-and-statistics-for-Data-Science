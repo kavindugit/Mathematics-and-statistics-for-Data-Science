{
 "cells": [
  {
   "cell_type": "markdown",
   "id": "46bf8cf7",
   "metadata": {},
   "source": [
    "##### from math and stats course on codebasics.io. \n",
    "\n",
    "Problem Statement: We have a mobile phone store selling iphones and samsung galaxies. We have sales data for age group less than 30 and >= 30. Based on this figure out if these two variables (i.e. type of the phone and age group) have dependance or not. We need to form null and alternate hypothesis for this.\n",
    "\n",
    "1. NULL Hypothesis: There is no association between phone preference and age group\n",
    "1. Alternate Hypothesis: There is an association between phone preference and age group    "
   ]
  },
  {
   "cell_type": "code",
   "execution_count": 8,
   "id": "cf552d06",
   "metadata": {
    "scrolled": true
   },
   "outputs": [
    {
     "data": {
      "text/plain": [
       "(17.267219387755098,\n",
       " 3.247411250228346e-05,\n",
       " 1,\n",
       " array([[37.33333333, 42.66666667],\n",
       "        [32.66666667, 37.33333333]]))"
      ]
     },
     "execution_count": 8,
     "metadata": {},
     "output_type": "execute_result"
    }
   ],
   "source": [
    "from scipy.stats import chi2_contingency\n",
    "\n",
    "# Observed frequencies for product preferences across two age groups\n",
    "actual_count = np.array([\n",
    "    [50, 30],  # Under 30: 50 prefer iPhone, 30 prefer Samsung Galaxy\n",
    "    [20, 50]   # 30 & Over: 20 prefer Product iPhone, 50 prefer Samsung Galaxy\n",
    "])\n",
    "\n",
    "chi2_statistic, p_value, df, expected_count = chi2_contingency(actual_count, correction=False)\n",
    "chi2_statistic, p_value, df, expected_count"
   ]
  },
  {
   "cell_type": "markdown",
   "id": "c0f06708",
   "metadata": {},
   "source": [
    "#### Hypothesis Testing Using Rejection Region"
   ]
  },
  {
   "cell_type": "code",
   "execution_count": 11,
   "id": "d41e5bcf",
   "metadata": {},
   "outputs": [
    {
     "data": {
      "text/plain": [
       "True"
      ]
     },
     "execution_count": 11,
     "metadata": {},
     "output_type": "execute_result"
    }
   ],
   "source": [
    "chi2_critical = 3.84 # The value from chi-squared table for df = 1 and alpha = 0.05\n",
    "\n",
    "chi2_statistic > chi2_critical"
   ]
  },
  {
   "cell_type": "markdown",
   "id": "4993ce2e",
   "metadata": {},
   "source": [
    "Chi-squared statistic is greater than the critical value which means we can reject the null hypothesis. This means that there is indeed a dependance between the kind of phone people prefer and the age group"
   ]
  },
  {
   "cell_type": "markdown",
   "id": "bbc0574f",
   "metadata": {},
   "source": [
    "#### Hypothesis Testing Using p Value"
   ]
  },
  {
   "cell_type": "code",
   "execution_count": 9,
   "id": "0326195b",
   "metadata": {},
   "outputs": [
    {
     "data": {
      "text/plain": [
       "True"
      ]
     },
     "execution_count": 9,
     "metadata": {},
     "output_type": "execute_result"
    }
   ],
   "source": [
    "alpha = 0.05\n",
    "\n",
    "p_value < alpha"
   ]
  },
  {
   "cell_type": "markdown",
   "id": "6311dd51",
   "metadata": {},
   "source": [
    "Calculated p value is less than the alpha (0.05) which means we can reject the null hypothesis. This means that there is indeed a dependance between the kind of phone people prefer and the age group"
   ]
  },
  {
   "cell_type": "markdown",
   "id": "6b2e7bbb",
   "metadata": {},
   "source": [
    "Above we have used Rejection region and p Value for rejecting null hypothesis. In real life you need to use just one method. Fundamentally they are two different ways of doing the same thing!"
   ]
  }
 ],
 "metadata": {
  "kernelspec": {
   "display_name": "Python 3 (ipykernel)",
   "language": "python",
   "name": "python3"
  },
  "language_info": {
   "codemirror_mode": {
    "name": "ipython",
    "version": 3
   },
   "file_extension": ".py",
   "mimetype": "text/x-python",
   "name": "python",
   "nbconvert_exporter": "python",
   "pygments_lexer": "ipython3",
   "version": "3.11.5"
  }
 },
 "nbformat": 4,
 "nbformat_minor": 5
}
