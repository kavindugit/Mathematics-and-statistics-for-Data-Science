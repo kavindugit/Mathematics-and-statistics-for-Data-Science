{
 "cells": [
  {
   "cell_type": "markdown",
   "id": "0ceaeaf1",
   "metadata": {},
   "source": [
    "<h2 align=\"center\">Hypothesis Testing Using T-Test<h2>"
   ]
  },
  {
   "cell_type": "markdown",
   "id": "5749b4a1",
   "metadata": {},
   "source": [
    "The school management has introduced a new teaching method that claims that the average exam score improves due to this new way of teaching. Historically the average score has been 72 (i.e. population average). We have conducted a pilot test on a class of 20 students and we have their exam scores in exam_scores.csv file. Based on this conduct a hypothesis test to prove or reject the claim.\n",
    "\n",
    "**NULL Hypothesis** - New teaching method doesn't increse the average exam score\n",
    "\n",
    "**ALTERNATE Hypothesis** - New teaching method increses the average exam score"
   ]
  },
  {
   "cell_type": "code",
   "execution_count": 2,
   "id": "0bd5733d",
   "metadata": {},
   "outputs": [],
   "source": [
    "import pandas as pd"
   ]
  },
  {
   "cell_type": "code",
   "execution_count": 9,
   "id": "c044afdb",
   "metadata": {},
   "outputs": [
    {
     "data": {
      "text/html": [
       "<div>\n",
       "<style scoped>\n",
       "    .dataframe tbody tr th:only-of-type {\n",
       "        vertical-align: middle;\n",
       "    }\n",
       "\n",
       "    .dataframe tbody tr th {\n",
       "        vertical-align: top;\n",
       "    }\n",
       "\n",
       "    .dataframe thead th {\n",
       "        text-align: right;\n",
       "    }\n",
       "</style>\n",
       "<table border=\"1\" class=\"dataframe\">\n",
       "  <thead>\n",
       "    <tr style=\"text-align: right;\">\n",
       "      <th></th>\n",
       "      <th>name</th>\n",
       "      <th>score</th>\n",
       "    </tr>\n",
       "  </thead>\n",
       "  <tbody>\n",
       "    <tr>\n",
       "      <th>0</th>\n",
       "      <td>Rishi</td>\n",
       "      <td>78</td>\n",
       "    </tr>\n",
       "    <tr>\n",
       "      <th>1</th>\n",
       "      <td>Arjun</td>\n",
       "      <td>71</td>\n",
       "    </tr>\n",
       "    <tr>\n",
       "      <th>2</th>\n",
       "      <td>Lakshmi</td>\n",
       "      <td>68</td>\n",
       "    </tr>\n",
       "    <tr>\n",
       "      <th>3</th>\n",
       "      <td>Aditi</td>\n",
       "      <td>81</td>\n",
       "    </tr>\n",
       "    <tr>\n",
       "      <th>4</th>\n",
       "      <td>Aisha</td>\n",
       "      <td>85</td>\n",
       "    </tr>\n",
       "  </tbody>\n",
       "</table>\n",
       "</div>"
      ],
      "text/plain": [
       "      name  score\n",
       "0    Rishi     78\n",
       "1    Arjun     71\n",
       "2  Lakshmi     68\n",
       "3    Aditi     81\n",
       "4    Aisha     85"
      ]
     },
     "execution_count": 9,
     "metadata": {},
     "output_type": "execute_result"
    }
   ],
   "source": [
    "df = pd.read_csv(\"exam_scores.csv\")\n",
    "df.head()"
   ]
  },
  {
   "cell_type": "code",
   "execution_count": 10,
   "id": "da9c29aa",
   "metadata": {},
   "outputs": [
    {
     "data": {
      "text/plain": [
       "(2.228523555325052, 0.019059543933267798)"
      ]
     },
     "execution_count": 10,
     "metadata": {},
     "output_type": "execute_result"
    }
   ],
   "source": [
    "from scipy import stats\n",
    "\n",
    "population_mean = 72\n",
    "\n",
    "# Performing a one-sample t-test for Class scores against the hypothesized population mean\n",
    "t_stat_one_sample, p_value_one_sample = stats.ttest_1samp(df.score, population_mean, alternative=\"greater\")\n",
    "\n",
    "t_stat_one_sample, p_value_one_sample"
   ]
  },
  {
   "cell_type": "markdown",
   "id": "5542b67d",
   "metadata": {},
   "source": [
    "**Hypothesis Testing Using Rejection Region**"
   ]
  },
  {
   "cell_type": "code",
   "execution_count": 11,
   "id": "8e7bdfd8",
   "metadata": {},
   "outputs": [
    {
     "data": {
      "text/plain": [
       "True"
      ]
     },
     "execution_count": 11,
     "metadata": {},
     "output_type": "execute_result"
    }
   ],
   "source": [
    "t_critical = 1.729\n",
    "\n",
    "t_stat_one_sample > t_critical"
   ]
  },
  {
   "cell_type": "markdown",
   "id": "83021bb9",
   "metadata": {},
   "source": [
    "Since the calculated t statistics is above the critical value, we can reject the null hypothesis that there is no improvement due to a new teaching method. Hence alternative hypothesis that new teaching method indeed improve the grades is proven."
   ]
  },
  {
   "cell_type": "markdown",
   "id": "5e90517f",
   "metadata": {},
   "source": [
    "**Hypothesis Testing Using P Value**"
   ]
  },
  {
   "cell_type": "code",
   "execution_count": 12,
   "id": "a340fd5b",
   "metadata": {
    "scrolled": true
   },
   "outputs": [
    {
     "data": {
      "text/plain": [
       "True"
      ]
     },
     "execution_count": 12,
     "metadata": {},
     "output_type": "execute_result"
    }
   ],
   "source": [
    "significance_level = 0.05\n",
    "\n",
    "p_value_one_sample < significance_level"
   ]
  },
  {
   "cell_type": "markdown",
   "id": "5253ffc6",
   "metadata": {},
   "source": [
    "Since the calculated p value for our sample is less that the significance level, we can reject the null hypothesis that there is no improvement due to a new teaching method. Hence alternative hypothesis that new teaching method indeed improve the grades is proven."
   ]
  }
 ],
 "metadata": {
  "kernelspec": {
   "display_name": "Python 3 (ipykernel)",
   "language": "python",
   "name": "python3"
  },
  "language_info": {
   "codemirror_mode": {
    "name": "ipython",
    "version": 3
   },
   "file_extension": ".py",
   "mimetype": "text/x-python",
   "name": "python",
   "nbconvert_exporter": "python",
   "pygments_lexer": "ipython3",
   "version": "3.11.5"
  }
 },
 "nbformat": 4,
 "nbformat_minor": 5
}
