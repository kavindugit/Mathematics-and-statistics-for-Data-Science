{
 "cells": [
  {
   "cell_type": "code",
   "execution_count": 1,
   "id": "f48855d2",
   "metadata": {},
   "outputs": [],
   "source": [
    "import pandas as pd\n",
    "\n"
   ]
  },
  {
   "cell_type": "code",
   "execution_count": 2,
   "id": "97b48743",
   "metadata": {},
   "outputs": [
    {
     "data": {
      "text/html": [
       "<div>\n",
       "<style scoped>\n",
       "    .dataframe tbody tr th:only-of-type {\n",
       "        vertical-align: middle;\n",
       "    }\n",
       "\n",
       "    .dataframe tbody tr th {\n",
       "        vertical-align: top;\n",
       "    }\n",
       "\n",
       "    .dataframe thead th {\n",
       "        text-align: right;\n",
       "    }\n",
       "</style>\n",
       "<table border=\"1\" class=\"dataframe\">\n",
       "  <thead>\n",
       "    <tr style=\"text-align: right;\">\n",
       "      <th></th>\n",
       "      <th>year</th>\n",
       "      <th>nvidia_returns</th>\n",
       "      <th>reliance_returns</th>\n",
       "    </tr>\n",
       "  </thead>\n",
       "  <tbody>\n",
       "    <tr>\n",
       "      <th>0</th>\n",
       "      <td>2016</td>\n",
       "      <td>122.14</td>\n",
       "      <td>47.43</td>\n",
       "    </tr>\n",
       "    <tr>\n",
       "      <th>1</th>\n",
       "      <td>2017</td>\n",
       "      <td>83.91</td>\n",
       "      <td>12.09</td>\n",
       "    </tr>\n",
       "    <tr>\n",
       "      <th>2</th>\n",
       "      <td>2018</td>\n",
       "      <td>-50.03</td>\n",
       "      <td>-13.63</td>\n",
       "    </tr>\n",
       "    <tr>\n",
       "      <th>3</th>\n",
       "      <td>2019</td>\n",
       "      <td>82.19</td>\n",
       "      <td>22.42</td>\n",
       "    </tr>\n",
       "    <tr>\n",
       "      <th>4</th>\n",
       "      <td>2020</td>\n",
       "      <td>125.84</td>\n",
       "      <td>62.59</td>\n",
       "    </tr>\n",
       "    <tr>\n",
       "      <th>5</th>\n",
       "      <td>2021</td>\n",
       "      <td>50.53</td>\n",
       "      <td>33.70</td>\n",
       "    </tr>\n",
       "    <tr>\n",
       "      <th>6</th>\n",
       "      <td>2022</td>\n",
       "      <td>48.57</td>\n",
       "      <td>10.26</td>\n",
       "    </tr>\n",
       "  </tbody>\n",
       "</table>\n",
       "</div>"
      ],
      "text/plain": [
       "   year  nvidia_returns  reliance_returns\n",
       "0  2016          122.14             47.43\n",
       "1  2017           83.91             12.09\n",
       "2  2018          -50.03            -13.63\n",
       "3  2019           82.19             22.42\n",
       "4  2020          125.84             62.59\n",
       "5  2021           50.53             33.70\n",
       "6  2022           48.57             10.26"
      ]
     },
     "execution_count": 2,
     "metadata": {},
     "output_type": "execute_result"
    }
   ],
   "source": [
    "df = pd.read_csv(r\"C:\\Users\\HP\\Maths and statistics course codebasics\\files\\chapter4_assets\\9_stock_returns_volatility\\stock_returns.csv\")\n",
    "df"
   ]
  },
  {
   "cell_type": "code",
   "execution_count": 3,
   "id": "7cfd2e00",
   "metadata": {},
   "outputs": [
    {
     "data": {
      "text/html": [
       "<div>\n",
       "<style scoped>\n",
       "    .dataframe tbody tr th:only-of-type {\n",
       "        vertical-align: middle;\n",
       "    }\n",
       "\n",
       "    .dataframe tbody tr th {\n",
       "        vertical-align: top;\n",
       "    }\n",
       "\n",
       "    .dataframe thead th {\n",
       "        text-align: right;\n",
       "    }\n",
       "</style>\n",
       "<table border=\"1\" class=\"dataframe\">\n",
       "  <thead>\n",
       "    <tr style=\"text-align: right;\">\n",
       "      <th></th>\n",
       "      <th>year</th>\n",
       "      <th>nvidia_returns</th>\n",
       "      <th>reliance_returns</th>\n",
       "    </tr>\n",
       "  </thead>\n",
       "  <tbody>\n",
       "    <tr>\n",
       "      <th>count</th>\n",
       "      <td>7.000000</td>\n",
       "      <td>7.000000</td>\n",
       "      <td>7.000000</td>\n",
       "    </tr>\n",
       "    <tr>\n",
       "      <th>mean</th>\n",
       "      <td>2019.000000</td>\n",
       "      <td>66.164286</td>\n",
       "      <td>24.980000</td>\n",
       "    </tr>\n",
       "    <tr>\n",
       "      <th>std</th>\n",
       "      <td>2.160247</td>\n",
       "      <td>59.611670</td>\n",
       "      <td>25.412166</td>\n",
       "    </tr>\n",
       "    <tr>\n",
       "      <th>min</th>\n",
       "      <td>2016.000000</td>\n",
       "      <td>-50.030000</td>\n",
       "      <td>-13.630000</td>\n",
       "    </tr>\n",
       "    <tr>\n",
       "      <th>25%</th>\n",
       "      <td>2017.500000</td>\n",
       "      <td>49.550000</td>\n",
       "      <td>11.175000</td>\n",
       "    </tr>\n",
       "    <tr>\n",
       "      <th>50%</th>\n",
       "      <td>2019.000000</td>\n",
       "      <td>82.190000</td>\n",
       "      <td>22.420000</td>\n",
       "    </tr>\n",
       "    <tr>\n",
       "      <th>75%</th>\n",
       "      <td>2020.500000</td>\n",
       "      <td>103.025000</td>\n",
       "      <td>40.565000</td>\n",
       "    </tr>\n",
       "    <tr>\n",
       "      <th>max</th>\n",
       "      <td>2022.000000</td>\n",
       "      <td>125.840000</td>\n",
       "      <td>62.590000</td>\n",
       "    </tr>\n",
       "  </tbody>\n",
       "</table>\n",
       "</div>"
      ],
      "text/plain": [
       "              year  nvidia_returns  reliance_returns\n",
       "count     7.000000        7.000000          7.000000\n",
       "mean   2019.000000       66.164286         24.980000\n",
       "std       2.160247       59.611670         25.412166\n",
       "min    2016.000000      -50.030000        -13.630000\n",
       "25%    2017.500000       49.550000         11.175000\n",
       "50%    2019.000000       82.190000         22.420000\n",
       "75%    2020.500000      103.025000         40.565000\n",
       "max    2022.000000      125.840000         62.590000"
      ]
     },
     "execution_count": 3,
     "metadata": {},
     "output_type": "execute_result"
    }
   ],
   "source": [
    "df.describe()"
   ]
  },
  {
   "cell_type": "code",
   "execution_count": 5,
   "id": "e3add0ff",
   "metadata": {},
   "outputs": [
    {
     "data": {
      "text/plain": [
       "(59.61166995847453, 3553.551195238095)"
      ]
     },
     "execution_count": 5,
     "metadata": {},
     "output_type": "execute_result"
    }
   ],
   "source": [
    "df.nvidia_returns.std(),df.nvidia_returns.var()                   #get nvidia return std and variance"
   ]
  },
  {
   "cell_type": "code",
   "execution_count": 6,
   "id": "bf328acb",
   "metadata": {},
   "outputs": [
    {
     "data": {
      "text/plain": [
       "(25.41216637754444, 645.7782000000001)"
      ]
     },
     "execution_count": 6,
     "metadata": {},
     "output_type": "execute_result"
    }
   ],
   "source": [
    "df.reliance_returns.std(),df.reliance_returns.var()             "
   ]
  },
  {
   "cell_type": "markdown",
   "id": "61074148",
   "metadata": {},
   "source": [
    "Standard Deviation (std):\n",
    "\n",
    "    NVIDIA Returns (std = 59.611):\n",
    "        This value indicates that the returns for NVIDIA have a relatively high level of variability. A high standard deviation suggests that the returns fluctuate significantly around the mean (66.16).\n",
    "\n",
    "    Reliance Returns (std = 25.421):\n",
    "        This value is significantly lower than that of NVIDIA, indicating that Reliance returns are less volatile compared to NVIDIA returns. The returns of Reliance fluctuate less around the mean (24.98).\n",
    "\n",
    "Variance:\n",
    "\n",
    "    NVIDIA Returns (variance = 3553.551):\n",
    "        Variance, which is the square of the standard deviation, also shows the extent of the variability. The higher the variance, the more spread out the returns are. For NVIDIA, a high variance reinforces the insight that its returns are highly volatile.\n",
    "\n",
    "    Reliance Returns (variance = 645.772):\n",
    "        This lower variance compared to NVIDIA indicates that Reliance's returns are more stable and less spread out.\n",
    "\n",
    "Comparative Insights:\n",
    "\n",
    "    Risk Assessment:\n",
    "        NVIDIA's higher standard deviation and variance suggest that it is a riskier investment compared to Reliance. Investors may expect larger swings in returns, which could mean higher potential gains but also higher potential losses.\n",
    "    Stability:\n",
    "        Reliance, with its lower standard deviation and variance, appears to be a more stable investment. It might be preferable for risk-averse investors who prioritize stability over high returns.\n",
    "\n",
    "Summary:\n",
    "\n",
    "    NVIDIA:\n",
    "        Mean Return: 66.16\n",
    "        Std: 59.611\n",
    "        Variance: 3553.551\n",
    "        Insight: High returns but high risk/volatility.\n",
    "\n",
    "    Reliance:\n",
    "        Mean Return: 24.98\n",
    "        Std: 25.421\n",
    "        Variance: 645.772\n",
    "        Insight: Moderate returns with lower risk/volatility.\n",
    "\n",
    "These insights can help investors make informed decisions based on their risk tolerance and return expectations."
   ]
  },
  {
   "cell_type": "code",
   "execution_count": null,
   "id": "fc2c046a",
   "metadata": {},
   "outputs": [],
   "source": []
  }
 ],
 "metadata": {
  "kernelspec": {
   "display_name": "Python 3 (ipykernel)",
   "language": "python",
   "name": "python3"
  },
  "language_info": {
   "codemirror_mode": {
    "name": "ipython",
    "version": 3
   },
   "file_extension": ".py",
   "mimetype": "text/x-python",
   "name": "python",
   "nbconvert_exporter": "python",
   "pygments_lexer": "ipython3",
   "version": "3.11.5"
  }
 },
 "nbformat": 4,
 "nbformat_minor": 5
}
