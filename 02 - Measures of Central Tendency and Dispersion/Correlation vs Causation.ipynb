{
 "cells": [
  {
   "cell_type": "markdown",
   "id": "d7623cd5",
   "metadata": {},
   "source": [
    "Correlation:\n",
    "\n",
    "    A relationship or connection between two variables where changes in one variable are associated with changes in the other, but one does not necessarily cause the other."
   ]
  },
  {
   "cell_type": "markdown",
   "id": "6a79fd60",
   "metadata": {},
   "source": [
    "Causation:\n",
    "\n",
    "    A relationship where one variable directly influences or causes changes in another variable."
   ]
  },
  {
   "cell_type": "code",
   "execution_count": null,
   "id": "b5fff84b",
   "metadata": {},
   "outputs": [],
   "source": []
  }
 ],
 "metadata": {
  "kernelspec": {
   "display_name": "Python 3 (ipykernel)",
   "language": "python",
   "name": "python3"
  },
  "language_info": {
   "codemirror_mode": {
    "name": "ipython",
    "version": 3
   },
   "file_extension": ".py",
   "mimetype": "text/x-python",
   "name": "python",
   "nbconvert_exporter": "python",
   "pygments_lexer": "ipython3",
   "version": "3.11.5"
  }
 },
 "nbformat": 4,
 "nbformat_minor": 5
}
